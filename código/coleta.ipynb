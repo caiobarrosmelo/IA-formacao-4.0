{
  "cells": [
    {
      "cell_type": "markdown",
      "id": "56bc9814",
      "metadata": {
        "id": "56bc9814"
      },
      "source": [
        "**Aula Prática:** Coleta de dados"
      ]
    },
    {
      "cell_type": "markdown",
      "id": "fb7cbbfa",
      "metadata": {
        "id": "fb7cbbfa"
      },
      "source": [
        "##### Primeiro passo: Coletar os dados"
      ]
    },
    {
      "cell_type": "markdown",
      "id": "tXFBppQz_lXR",
      "metadata": {
        "id": "tXFBppQz_lXR"
      },
      "source": [
        "Os dados foram obtidos pela plataforma [Kaggle](https://www.kaggle.com/datasets/tawfikelmetwally/employee-dataset).\n",
        "\n",
        "Este conjunto de dados contém informações sobre funcionários de uma empresa, incluindo: Formação acadêmica, Histórico de trabalho, Dados demográficos, Fatores relacionados ao emprego.\n",
        "\n",
        "Com essa base é possível analisar fatores que influenciam a rotatividade de funcionários.\n",
        "\n",
        "Objetivo: **Classificação (predição) se um funcionário se mantém ou não no trabalho**"
      ]
    },
    {
      "cell_type": "code",
      "execution_count": 1,
      "id": "OeTUmxQYAPpZ",
      "metadata": {
        "colab": {
          "base_uri": "https://localhost:8080/",
          "height": 206
        },
        "id": "OeTUmxQYAPpZ",
        "outputId": "acafc379-bc79-4bad-960d-00073c924642"
      },
      "outputs": [
        {
          "data": {
            "application/vnd.microsoft.datawrangler.viewer.v0+json": {
              "columns": [
                {
                  "name": "index",
                  "rawType": "int64",
                  "type": "integer"
                },
                {
                  "name": "Education",
                  "rawType": "object",
                  "type": "string"
                },
                {
                  "name": "JoiningYear",
                  "rawType": "int64",
                  "type": "integer"
                },
                {
                  "name": "City",
                  "rawType": "object",
                  "type": "string"
                },
                {
                  "name": "PaymentTier",
                  "rawType": "int64",
                  "type": "integer"
                },
                {
                  "name": "Age",
                  "rawType": "int64",
                  "type": "integer"
                },
                {
                  "name": "Gender",
                  "rawType": "object",
                  "type": "string"
                },
                {
                  "name": "EverBenched",
                  "rawType": "object",
                  "type": "string"
                },
                {
                  "name": "ExperienceInCurrentDomain",
                  "rawType": "int64",
                  "type": "integer"
                },
                {
                  "name": "LeaveOrNot",
                  "rawType": "int64",
                  "type": "integer"
                }
              ],
              "conversionMethod": "pd.DataFrame",
              "ref": "8b55b313-d825-433e-9490-17afaeb76a28",
              "rows": [
                [
                  "0",
                  "Bachelors",
                  "2017",
                  "Bangalore",
                  "3",
                  "34",
                  "Male",
                  "No",
                  "0",
                  "0"
                ],
                [
                  "1",
                  "Bachelors",
                  "2013",
                  "Pune",
                  "1",
                  "28",
                  "Female",
                  "No",
                  "3",
                  "1"
                ],
                [
                  "2",
                  "Bachelors",
                  "2014",
                  "New Delhi",
                  "3",
                  "38",
                  "Female",
                  "No",
                  "2",
                  "0"
                ],
                [
                  "3",
                  "Masters",
                  "2016",
                  "Bangalore",
                  "3",
                  "27",
                  "Male",
                  "No",
                  "5",
                  "1"
                ],
                [
                  "4",
                  "Masters",
                  "2017",
                  "Pune",
                  "3",
                  "24",
                  "Male",
                  "Yes",
                  "2",
                  "1"
                ]
              ],
              "shape": {
                "columns": 9,
                "rows": 5
              }
            },
            "text/html": [
              "<div>\n",
              "<style scoped>\n",
              "    .dataframe tbody tr th:only-of-type {\n",
              "        vertical-align: middle;\n",
              "    }\n",
              "\n",
              "    .dataframe tbody tr th {\n",
              "        vertical-align: top;\n",
              "    }\n",
              "\n",
              "    .dataframe thead th {\n",
              "        text-align: right;\n",
              "    }\n",
              "</style>\n",
              "<table border=\"1\" class=\"dataframe\">\n",
              "  <thead>\n",
              "    <tr style=\"text-align: right;\">\n",
              "      <th></th>\n",
              "      <th>Education</th>\n",
              "      <th>JoiningYear</th>\n",
              "      <th>City</th>\n",
              "      <th>PaymentTier</th>\n",
              "      <th>Age</th>\n",
              "      <th>Gender</th>\n",
              "      <th>EverBenched</th>\n",
              "      <th>ExperienceInCurrentDomain</th>\n",
              "      <th>LeaveOrNot</th>\n",
              "    </tr>\n",
              "  </thead>\n",
              "  <tbody>\n",
              "    <tr>\n",
              "      <th>0</th>\n",
              "      <td>Bachelors</td>\n",
              "      <td>2017</td>\n",
              "      <td>Bangalore</td>\n",
              "      <td>3</td>\n",
              "      <td>34</td>\n",
              "      <td>Male</td>\n",
              "      <td>No</td>\n",
              "      <td>0</td>\n",
              "      <td>0</td>\n",
              "    </tr>\n",
              "    <tr>\n",
              "      <th>1</th>\n",
              "      <td>Bachelors</td>\n",
              "      <td>2013</td>\n",
              "      <td>Pune</td>\n",
              "      <td>1</td>\n",
              "      <td>28</td>\n",
              "      <td>Female</td>\n",
              "      <td>No</td>\n",
              "      <td>3</td>\n",
              "      <td>1</td>\n",
              "    </tr>\n",
              "    <tr>\n",
              "      <th>2</th>\n",
              "      <td>Bachelors</td>\n",
              "      <td>2014</td>\n",
              "      <td>New Delhi</td>\n",
              "      <td>3</td>\n",
              "      <td>38</td>\n",
              "      <td>Female</td>\n",
              "      <td>No</td>\n",
              "      <td>2</td>\n",
              "      <td>0</td>\n",
              "    </tr>\n",
              "    <tr>\n",
              "      <th>3</th>\n",
              "      <td>Masters</td>\n",
              "      <td>2016</td>\n",
              "      <td>Bangalore</td>\n",
              "      <td>3</td>\n",
              "      <td>27</td>\n",
              "      <td>Male</td>\n",
              "      <td>No</td>\n",
              "      <td>5</td>\n",
              "      <td>1</td>\n",
              "    </tr>\n",
              "    <tr>\n",
              "      <th>4</th>\n",
              "      <td>Masters</td>\n",
              "      <td>2017</td>\n",
              "      <td>Pune</td>\n",
              "      <td>3</td>\n",
              "      <td>24</td>\n",
              "      <td>Male</td>\n",
              "      <td>Yes</td>\n",
              "      <td>2</td>\n",
              "      <td>1</td>\n",
              "    </tr>\n",
              "  </tbody>\n",
              "</table>\n",
              "</div>"
            ],
            "text/plain": [
              "   Education  JoiningYear       City  PaymentTier  Age  Gender EverBenched  \\\n",
              "0  Bachelors         2017  Bangalore            3   34    Male          No   \n",
              "1  Bachelors         2013       Pune            1   28  Female          No   \n",
              "2  Bachelors         2014  New Delhi            3   38  Female          No   \n",
              "3    Masters         2016  Bangalore            3   27    Male          No   \n",
              "4    Masters         2017       Pune            3   24    Male         Yes   \n",
              "\n",
              "   ExperienceInCurrentDomain  LeaveOrNot  \n",
              "0                          0           0  \n",
              "1                          3           1  \n",
              "2                          2           0  \n",
              "3                          5           1  \n",
              "4                          2           1  "
            ]
          },
          "execution_count": 1,
          "metadata": {},
          "output_type": "execute_result"
        }
      ],
      "source": [
        "import pandas as pd\n",
        "\n",
        "# Lendo o arquivo CSV principal\n",
        "df = pd.read_csv(\"../dados/dados_origem.csv\")\n",
        "\n",
        "# Visualizando as primeiras linhas\n",
        "df.head()"
      ]
    },
    {
      "cell_type": "markdown",
      "id": "Cc-P4DjI2Ye0",
      "metadata": {
        "id": "Cc-P4DjI2Ye0"
      },
      "source": [
        "Com base na descrição fornecida pelo autor, vou renomear as colunas para facilitar o entendimento."
      ]
    },
    {
      "cell_type": "markdown",
      "id": "2efb52d1",
      "metadata": {
        "id": "2efb52d1"
      },
      "source": [
        "1. Education: Formação acadêmica do funcionário\n",
        "2. Joining Year: Ano em que o funcionário entrou na empresa (tempo de serviço)\n",
        "3. City: Cidade onde o funcionário está alocado/trabalha\n",
        "4. Payment Tier: Nível salarial do funcionário\n",
        "5. Age: Idade do funcionário\n",
        "6. Gender: Gênero do funcionário\n",
        "7. Ever Benched: Indica se o funcionário já ficou sem tarefas atribuídas (\"encostado\")\n",
        "8. Experience in Current Domain: Anos de experiência no campo de atuação atual\n",
        "9. Leave or Not (Target): Indica se o funcionário deixou a empresa (1 = Sim, 0 = Não)"
      ]
    },
    {
      "cell_type": "code",
      "execution_count": 2,
      "id": "9_H9aUhUNe4D",
      "metadata": {
        "colab": {
          "base_uri": "https://localhost:8080/",
          "height": 206
        },
        "id": "9_H9aUhUNe4D",
        "outputId": "a2afde7c-a140-4515-d313-5a359ce26d44"
      },
      "outputs": [
        {
          "data": {
            "application/vnd.microsoft.datawrangler.viewer.v0+json": {
              "columns": [
                {
                  "name": "index",
                  "rawType": "int64",
                  "type": "integer"
                },
                {
                  "name": "Formacao_Academica",
                  "rawType": "object",
                  "type": "string"
                },
                {
                  "name": "Ano_Admissao",
                  "rawType": "int64",
                  "type": "integer"
                },
                {
                  "name": "Cidade",
                  "rawType": "object",
                  "type": "string"
                },
                {
                  "name": "Nivel_Salarial",
                  "rawType": "int64",
                  "type": "integer"
                },
                {
                  "name": "Idade",
                  "rawType": "int64",
                  "type": "integer"
                },
                {
                  "name": "Genero",
                  "rawType": "object",
                  "type": "string"
                },
                {
                  "name": "Ficou_Sem_Tarefas",
                  "rawType": "object",
                  "type": "string"
                },
                {
                  "name": "Experiencia_Area",
                  "rawType": "int64",
                  "type": "integer"
                },
                {
                  "name": "Deixou_Empresa",
                  "rawType": "int64",
                  "type": "integer"
                }
              ],
              "conversionMethod": "pd.DataFrame",
              "ref": "7c5aae24-1e9d-4e1c-bdf8-86047901045b",
              "rows": [
                [
                  "0",
                  "Bachelors",
                  "2017",
                  "Bangalore",
                  "3",
                  "34",
                  "Male",
                  "No",
                  "0",
                  "0"
                ],
                [
                  "1",
                  "Bachelors",
                  "2013",
                  "Pune",
                  "1",
                  "28",
                  "Female",
                  "No",
                  "3",
                  "1"
                ],
                [
                  "2",
                  "Bachelors",
                  "2014",
                  "New Delhi",
                  "3",
                  "38",
                  "Female",
                  "No",
                  "2",
                  "0"
                ],
                [
                  "3",
                  "Masters",
                  "2016",
                  "Bangalore",
                  "3",
                  "27",
                  "Male",
                  "No",
                  "5",
                  "1"
                ],
                [
                  "4",
                  "Masters",
                  "2017",
                  "Pune",
                  "3",
                  "24",
                  "Male",
                  "Yes",
                  "2",
                  "1"
                ]
              ],
              "shape": {
                "columns": 9,
                "rows": 5
              }
            },
            "text/html": [
              "<div>\n",
              "<style scoped>\n",
              "    .dataframe tbody tr th:only-of-type {\n",
              "        vertical-align: middle;\n",
              "    }\n",
              "\n",
              "    .dataframe tbody tr th {\n",
              "        vertical-align: top;\n",
              "    }\n",
              "\n",
              "    .dataframe thead th {\n",
              "        text-align: right;\n",
              "    }\n",
              "</style>\n",
              "<table border=\"1\" class=\"dataframe\">\n",
              "  <thead>\n",
              "    <tr style=\"text-align: right;\">\n",
              "      <th></th>\n",
              "      <th>Formacao_Academica</th>\n",
              "      <th>Ano_Admissao</th>\n",
              "      <th>Cidade</th>\n",
              "      <th>Nivel_Salarial</th>\n",
              "      <th>Idade</th>\n",
              "      <th>Genero</th>\n",
              "      <th>Ficou_Sem_Tarefas</th>\n",
              "      <th>Experiencia_Area</th>\n",
              "      <th>Deixou_Empresa</th>\n",
              "    </tr>\n",
              "  </thead>\n",
              "  <tbody>\n",
              "    <tr>\n",
              "      <th>0</th>\n",
              "      <td>Bachelors</td>\n",
              "      <td>2017</td>\n",
              "      <td>Bangalore</td>\n",
              "      <td>3</td>\n",
              "      <td>34</td>\n",
              "      <td>Male</td>\n",
              "      <td>No</td>\n",
              "      <td>0</td>\n",
              "      <td>0</td>\n",
              "    </tr>\n",
              "    <tr>\n",
              "      <th>1</th>\n",
              "      <td>Bachelors</td>\n",
              "      <td>2013</td>\n",
              "      <td>Pune</td>\n",
              "      <td>1</td>\n",
              "      <td>28</td>\n",
              "      <td>Female</td>\n",
              "      <td>No</td>\n",
              "      <td>3</td>\n",
              "      <td>1</td>\n",
              "    </tr>\n",
              "    <tr>\n",
              "      <th>2</th>\n",
              "      <td>Bachelors</td>\n",
              "      <td>2014</td>\n",
              "      <td>New Delhi</td>\n",
              "      <td>3</td>\n",
              "      <td>38</td>\n",
              "      <td>Female</td>\n",
              "      <td>No</td>\n",
              "      <td>2</td>\n",
              "      <td>0</td>\n",
              "    </tr>\n",
              "    <tr>\n",
              "      <th>3</th>\n",
              "      <td>Masters</td>\n",
              "      <td>2016</td>\n",
              "      <td>Bangalore</td>\n",
              "      <td>3</td>\n",
              "      <td>27</td>\n",
              "      <td>Male</td>\n",
              "      <td>No</td>\n",
              "      <td>5</td>\n",
              "      <td>1</td>\n",
              "    </tr>\n",
              "    <tr>\n",
              "      <th>4</th>\n",
              "      <td>Masters</td>\n",
              "      <td>2017</td>\n",
              "      <td>Pune</td>\n",
              "      <td>3</td>\n",
              "      <td>24</td>\n",
              "      <td>Male</td>\n",
              "      <td>Yes</td>\n",
              "      <td>2</td>\n",
              "      <td>1</td>\n",
              "    </tr>\n",
              "  </tbody>\n",
              "</table>\n",
              "</div>"
            ],
            "text/plain": [
              "  Formacao_Academica  Ano_Admissao     Cidade  Nivel_Salarial  Idade  Genero  \\\n",
              "0          Bachelors          2017  Bangalore               3     34    Male   \n",
              "1          Bachelors          2013       Pune               1     28  Female   \n",
              "2          Bachelors          2014  New Delhi               3     38  Female   \n",
              "3            Masters          2016  Bangalore               3     27    Male   \n",
              "4            Masters          2017       Pune               3     24    Male   \n",
              "\n",
              "  Ficou_Sem_Tarefas  Experiencia_Area  Deixou_Empresa  \n",
              "0                No                 0               0  \n",
              "1                No                 3               1  \n",
              "2                No                 2               0  \n",
              "3                No                 5               1  \n",
              "4               Yes                 2               1  "
            ]
          },
          "execution_count": 2,
          "metadata": {},
          "output_type": "execute_result"
        }
      ],
      "source": [
        "# Dicionário de mapeamento (inglês para português simplificado)\n",
        "mapeamento_colunas = {\n",
        "    'Education': 'Formacao_Academica',\n",
        "    'JoiningYear': 'Ano_Admissao',\n",
        "    'City': 'Cidade',\n",
        "    'PaymentTier': 'Nivel_Salarial',\n",
        "    'Age': 'Idade',\n",
        "    'Gender': 'Genero',\n",
        "    'EverBenched': 'Ficou_Sem_Tarefas',\n",
        "    'ExperienceInCurrentDomain': 'Experiencia_Area',\n",
        "    'LeaveOrNot': 'Deixou_Empresa'\n",
        "}\n",
        "\n",
        "# Renomear as colunas\n",
        "df = df.rename(columns=mapeamento_colunas)\n",
        "\n",
        "# Verificar o resultado\n",
        "df.head()"
      ]
    },
    {
      "cell_type": "markdown",
      "id": "8rqTE3cOOI-x",
      "metadata": {
        "id": "8rqTE3cOOI-x"
      },
      "source": [
        "Agora 1 variável será removidas do estudo:\n",
        "- Cidade pois faremos uma análise mais simples sem considerar a cidade que o funcionário vive"
      ]
    },
    {
      "cell_type": "code",
      "execution_count": 3,
      "id": "pjGXIbGsOxMl",
      "metadata": {
        "colab": {
          "base_uri": "https://localhost:8080/",
          "height": 206
        },
        "id": "pjGXIbGsOxMl",
        "outputId": "3d1979c8-fde5-4de7-8c02-1ddee3cb651d"
      },
      "outputs": [
        {
          "data": {
            "application/vnd.microsoft.datawrangler.viewer.v0+json": {
              "columns": [
                {
                  "name": "index",
                  "rawType": "int64",
                  "type": "integer"
                },
                {
                  "name": "Formacao_Academica",
                  "rawType": "object",
                  "type": "string"
                },
                {
                  "name": "Ano_Admissao",
                  "rawType": "int64",
                  "type": "integer"
                },
                {
                  "name": "Nivel_Salarial",
                  "rawType": "int64",
                  "type": "integer"
                },
                {
                  "name": "Idade",
                  "rawType": "int64",
                  "type": "integer"
                },
                {
                  "name": "Genero",
                  "rawType": "object",
                  "type": "string"
                },
                {
                  "name": "Ficou_Sem_Tarefas",
                  "rawType": "object",
                  "type": "string"
                },
                {
                  "name": "Experiencia_Area",
                  "rawType": "int64",
                  "type": "integer"
                },
                {
                  "name": "Deixou_Empresa",
                  "rawType": "int64",
                  "type": "integer"
                }
              ],
              "conversionMethod": "pd.DataFrame",
              "ref": "664e9237-3d60-4d82-b706-8fbd7fe06565",
              "rows": [
                [
                  "0",
                  "Bachelors",
                  "2017",
                  "3",
                  "34",
                  "Male",
                  "No",
                  "0",
                  "0"
                ],
                [
                  "1",
                  "Bachelors",
                  "2013",
                  "1",
                  "28",
                  "Female",
                  "No",
                  "3",
                  "1"
                ],
                [
                  "2",
                  "Bachelors",
                  "2014",
                  "3",
                  "38",
                  "Female",
                  "No",
                  "2",
                  "0"
                ],
                [
                  "3",
                  "Masters",
                  "2016",
                  "3",
                  "27",
                  "Male",
                  "No",
                  "5",
                  "1"
                ],
                [
                  "4",
                  "Masters",
                  "2017",
                  "3",
                  "24",
                  "Male",
                  "Yes",
                  "2",
                  "1"
                ]
              ],
              "shape": {
                "columns": 8,
                "rows": 5
              }
            },
            "text/html": [
              "<div>\n",
              "<style scoped>\n",
              "    .dataframe tbody tr th:only-of-type {\n",
              "        vertical-align: middle;\n",
              "    }\n",
              "\n",
              "    .dataframe tbody tr th {\n",
              "        vertical-align: top;\n",
              "    }\n",
              "\n",
              "    .dataframe thead th {\n",
              "        text-align: right;\n",
              "    }\n",
              "</style>\n",
              "<table border=\"1\" class=\"dataframe\">\n",
              "  <thead>\n",
              "    <tr style=\"text-align: right;\">\n",
              "      <th></th>\n",
              "      <th>Formacao_Academica</th>\n",
              "      <th>Ano_Admissao</th>\n",
              "      <th>Nivel_Salarial</th>\n",
              "      <th>Idade</th>\n",
              "      <th>Genero</th>\n",
              "      <th>Ficou_Sem_Tarefas</th>\n",
              "      <th>Experiencia_Area</th>\n",
              "      <th>Deixou_Empresa</th>\n",
              "    </tr>\n",
              "  </thead>\n",
              "  <tbody>\n",
              "    <tr>\n",
              "      <th>0</th>\n",
              "      <td>Bachelors</td>\n",
              "      <td>2017</td>\n",
              "      <td>3</td>\n",
              "      <td>34</td>\n",
              "      <td>Male</td>\n",
              "      <td>No</td>\n",
              "      <td>0</td>\n",
              "      <td>0</td>\n",
              "    </tr>\n",
              "    <tr>\n",
              "      <th>1</th>\n",
              "      <td>Bachelors</td>\n",
              "      <td>2013</td>\n",
              "      <td>1</td>\n",
              "      <td>28</td>\n",
              "      <td>Female</td>\n",
              "      <td>No</td>\n",
              "      <td>3</td>\n",
              "      <td>1</td>\n",
              "    </tr>\n",
              "    <tr>\n",
              "      <th>2</th>\n",
              "      <td>Bachelors</td>\n",
              "      <td>2014</td>\n",
              "      <td>3</td>\n",
              "      <td>38</td>\n",
              "      <td>Female</td>\n",
              "      <td>No</td>\n",
              "      <td>2</td>\n",
              "      <td>0</td>\n",
              "    </tr>\n",
              "    <tr>\n",
              "      <th>3</th>\n",
              "      <td>Masters</td>\n",
              "      <td>2016</td>\n",
              "      <td>3</td>\n",
              "      <td>27</td>\n",
              "      <td>Male</td>\n",
              "      <td>No</td>\n",
              "      <td>5</td>\n",
              "      <td>1</td>\n",
              "    </tr>\n",
              "    <tr>\n",
              "      <th>4</th>\n",
              "      <td>Masters</td>\n",
              "      <td>2017</td>\n",
              "      <td>3</td>\n",
              "      <td>24</td>\n",
              "      <td>Male</td>\n",
              "      <td>Yes</td>\n",
              "      <td>2</td>\n",
              "      <td>1</td>\n",
              "    </tr>\n",
              "  </tbody>\n",
              "</table>\n",
              "</div>"
            ],
            "text/plain": [
              "  Formacao_Academica  Ano_Admissao  Nivel_Salarial  Idade  Genero  \\\n",
              "0          Bachelors          2017               3     34    Male   \n",
              "1          Bachelors          2013               1     28  Female   \n",
              "2          Bachelors          2014               3     38  Female   \n",
              "3            Masters          2016               3     27    Male   \n",
              "4            Masters          2017               3     24    Male   \n",
              "\n",
              "  Ficou_Sem_Tarefas  Experiencia_Area  Deixou_Empresa  \n",
              "0                No                 0               0  \n",
              "1                No                 3               1  \n",
              "2                No                 2               0  \n",
              "3                No                 5               1  \n",
              "4               Yes                 2               1  "
            ]
          },
          "execution_count": 3,
          "metadata": {},
          "output_type": "execute_result"
        }
      ],
      "source": [
        "# REMOVER Cidade\n",
        "df = df.drop(columns=['Cidade'])\n",
        "\n",
        "# Verificar o resultado\n",
        "df.head()"
      ]
    },
    {
      "cell_type": "markdown",
      "id": "vBPr-OTRPI5f",
      "metadata": {
        "id": "vBPr-OTRPI5f"
      },
      "source": [
        "##### Segundo passo: Fazer algumas análises"
      ]
    },
    {
      "cell_type": "markdown",
      "id": "EJO0xiLYS39E",
      "metadata": {
        "id": "EJO0xiLYS39E"
      },
      "source": [
        "Existe dados faltantes na minha base de dados?"
      ]
    },
    {
      "cell_type": "code",
      "execution_count": 4,
      "id": "eSRPueu6TGnk",
      "metadata": {
        "colab": {
          "base_uri": "https://localhost:8080/"
        },
        "id": "eSRPueu6TGnk",
        "outputId": "86101000-6d45-456c-fd26-49eb1819f59a"
      },
      "outputs": [
        {
          "name": "stdout",
          "output_type": "stream",
          "text": [
            "Dados faltantes por coluna:\n",
            "Formacao_Academica    0\n",
            "Ano_Admissao          0\n",
            "Nivel_Salarial        0\n",
            "Idade                 0\n",
            "Genero                0\n",
            "Ficou_Sem_Tarefas     0\n",
            "Experiencia_Area      0\n",
            "Deixou_Empresa        0\n",
            "dtype: int64\n"
          ]
        }
      ],
      "source": [
        "dados_faltantes = df.isna().sum()\n",
        "\n",
        "# Mostrar o resultado\n",
        "print(\"Dados faltantes por coluna:\")\n",
        "print(dados_faltantes)"
      ]
    },
    {
      "cell_type": "code",
      "execution_count": 5,
      "id": "70uAoP4gTYWl",
      "metadata": {
        "colab": {
          "base_uri": "https://localhost:8080/"
        },
        "id": "70uAoP4gTYWl",
        "outputId": "868bd4e5-5d53-493b-ab9f-94fc3e5390af"
      },
      "outputs": [
        {
          "name": "stdout",
          "output_type": "stream",
          "text": [
            "<class 'pandas.core.frame.DataFrame'>\n",
            "RangeIndex: 4653 entries, 0 to 4652\n",
            "Data columns (total 8 columns):\n",
            " #   Column              Non-Null Count  Dtype \n",
            "---  ------              --------------  ----- \n",
            " 0   Formacao_Academica  4653 non-null   object\n",
            " 1   Ano_Admissao        4653 non-null   int64 \n",
            " 2   Nivel_Salarial      4653 non-null   int64 \n",
            " 3   Idade               4653 non-null   int64 \n",
            " 4   Genero              4653 non-null   object\n",
            " 5   Ficou_Sem_Tarefas   4653 non-null   object\n",
            " 6   Experiencia_Area    4653 non-null   int64 \n",
            " 7   Deixou_Empresa      4653 non-null   int64 \n",
            "dtypes: int64(5), object(3)\n",
            "memory usage: 290.9+ KB\n"
          ]
        }
      ],
      "source": [
        "# Também podemos verificar o tipo de dado de cada coluna\n",
        "df.info()"
      ]
    },
    {
      "cell_type": "markdown",
      "id": "SuQFkjc9Pgka",
      "metadata": {
        "id": "SuQFkjc9Pgka"
      },
      "source": [
        "Quaal a quantidade de funcionários que deixou a empresa (variável resposta)?"
      ]
    },
    {
      "cell_type": "code",
      "execution_count": 6,
      "id": "XJeBxJMgPh5B",
      "metadata": {
        "colab": {
          "base_uri": "https://localhost:8080/",
          "height": 178
        },
        "id": "XJeBxJMgPh5B",
        "outputId": "80d4aef2-c0db-4e62-edab-ed0d3d3f6863"
      },
      "outputs": [
        {
          "data": {
            "text/plain": [
              "Deixou_Empresa\n",
              "0    3053\n",
              "1    1600\n",
              "Name: count, dtype: int64"
            ]
          },
          "execution_count": 6,
          "metadata": {},
          "output_type": "execute_result"
        }
      ],
      "source": [
        "df['Deixou_Empresa'].value_counts()"
      ]
    },
    {
      "cell_type": "markdown",
      "id": "x_XXXMbfQHbV",
      "metadata": {
        "id": "x_XXXMbfQHbV"
      },
      "source": [
        "Qual a distribuição de funcionários por formação acadêmica?"
      ]
    },
    {
      "cell_type": "code",
      "execution_count": 7,
      "id": "rKNjS-9VQO19",
      "metadata": {
        "colab": {
          "base_uri": "https://localhost:8080/",
          "height": 209
        },
        "id": "rKNjS-9VQO19",
        "outputId": "47077672-fd87-450f-9d3f-273ea4ee3706"
      },
      "outputs": [
        {
          "data": {
            "text/plain": [
              "Formacao_Academica\n",
              "Bachelors    3601\n",
              "Masters       873\n",
              "PHD           179\n",
              "Name: count, dtype: int64"
            ]
          },
          "execution_count": 7,
          "metadata": {},
          "output_type": "execute_result"
        }
      ],
      "source": [
        "df['Formacao_Academica'].value_counts()"
      ]
    },
    {
      "cell_type": "code",
      "execution_count": 8,
      "id": "ea26ca3f",
      "metadata": {},
      "outputs": [
        {
          "data": {
            "text/plain": [
              "Genero\n",
              "Male      2778\n",
              "Female    1875\n",
              "Name: count, dtype: int64"
            ]
          },
          "execution_count": 8,
          "metadata": {},
          "output_type": "execute_result"
        }
      ],
      "source": [
        "df['Genero'].value_counts()"
      ]
    },
    {
      "cell_type": "code",
      "execution_count": 9,
      "id": "12009b3c",
      "metadata": {},
      "outputs": [
        {
          "data": {
            "text/plain": [
              "Nivel_Salarial\n",
              "3    3492\n",
              "2     918\n",
              "1     243\n",
              "Name: count, dtype: int64"
            ]
          },
          "execution_count": 9,
          "metadata": {},
          "output_type": "execute_result"
        }
      ],
      "source": [
        "df['Nivel_Salarial'].value_counts()"
      ]
    },
    {
      "cell_type": "code",
      "execution_count": 10,
      "id": "d2430e74",
      "metadata": {},
      "outputs": [
        {
          "data": {
            "text/plain": [
              "Experiencia_Area\n",
              "2    1087\n",
              "4     931\n",
              "5     919\n",
              "3     786\n",
              "1     558\n",
              "0     355\n",
              "7       9\n",
              "6       8\n",
              "Name: count, dtype: int64"
            ]
          },
          "execution_count": 10,
          "metadata": {},
          "output_type": "execute_result"
        }
      ],
      "source": [
        "df['Experiencia_Area'].value_counts()"
      ]
    },
    {
      "cell_type": "markdown",
      "id": "xtCyWqXbQd6W",
      "metadata": {
        "id": "xtCyWqXbQd6W"
      },
      "source": [
        "Qual a  média de idade por formação acadêmica?"
      ]
    },
    {
      "cell_type": "code",
      "execution_count": 11,
      "id": "ncDsGlYEQk69",
      "metadata": {
        "colab": {
          "base_uri": "https://localhost:8080/"
        },
        "id": "ncDsGlYEQk69",
        "outputId": "f8df541b-6e88-4f29-c118-ea2f845e0af6"
      },
      "outputs": [
        {
          "name": "stdout",
          "output_type": "stream",
          "text": [
            "   Formação Acadêmica      Idade\n",
            "0                   0  29.571896\n",
            "1                   1  29.052500\n"
          ]
        }
      ],
      "source": [
        "# Calcular a média de idade por formação\n",
        "media_idade = df.groupby('Deixou_Empresa')['Idade'].mean().reset_index()\n",
        "\n",
        "# Formatando a saída (opcional)\n",
        "media_idade.columns = ['Formação Acadêmica', 'Idade']\n",
        "print(media_idade)"
      ]
    },
    {
      "cell_type": "markdown",
      "id": "kuBvJcrzRS7W",
      "metadata": {
        "id": "kuBvJcrzRS7W"
      },
      "source": [
        "Se quiser gerar uma análise gráfica dessas informações:"
      ]
    },
    {
      "cell_type": "code",
      "execution_count": 14,
      "id": "Gna_E7LqRYMQ",
      "metadata": {
        "colab": {
          "base_uri": "https://localhost:8080/",
          "height": 306
        },
        "id": "Gna_E7LqRYMQ",
        "outputId": "cded034c-671f-4390-f6d6-d38fe7a916c9"
      },
      "outputs": [
        {
          "data": {
            "image/png": "[encoded data removed]",
            "text/plain": [
              "<Figure size 500x300 with 1 Axes>"
            ]
          },
          "metadata": {},
          "output_type": "display_data"
        }
      ],
      "source": [
        "# Importar biblioteca de visualização de dados\n",
        "import matplotlib.pyplot as plt\n",
        "\n",
        "# Contar a quantidade de funcionários por situação (deixou a empresa)\n",
        "contagem_funcionario = df['Deixou_Empresa'].value_counts()\n",
        "\n",
        "# Criar o gráfico de barras\n",
        "plt.figure(figsize=(5, 3))\n",
        "contagem_funcionario.plot(kind='bar', color='purple')\n",
        "plt.show()"
      ]
    },
    {
      "cell_type": "markdown",
      "id": "xAml5qReTuTG",
      "metadata": {
        "id": "xAml5qReTuTG"
      },
      "source": [
        "**Muito Importante**! Algumas variáveis são do tipo \"object\". Precisaremos fazer uma transformação para a representação numérica antes de executar uma técnica de Aprendizado de Máquina"
      ]
    },
    {
      "cell_type": "code",
      "execution_count": 17,
      "id": "Q8wAqTsiUphO",
      "metadata": {
        "colab": {
          "base_uri": "https://localhost:8080/"
        },
        "id": "Q8wAqTsiUphO",
        "outputId": "5f6376c5-d512-4daa-f23c-31dd1fbf2c10"
      },
      "outputs": [
        {
          "name": "stdout",
          "output_type": "stream",
          "text": [
            "Mapeamento para 'Formação Academica': {'Bachelors': np.int64(0), 'Masters': np.int64(1), 'PHD': np.int64(2)}\n"
          ]
        }
      ],
      "source": [
        "# Importar método de transformar automaticamento\n",
        "from sklearn.preprocessing import LabelEncoder\n",
        "\n",
        "encoder = LabelEncoder()\n",
        "df['Formacao_Academica'] = encoder.fit_transform(df['Formacao_Academica'])\n",
        "\n",
        "#Exemplo de como recuperar o mapeamento feito pelo método LabelEncoder()\n",
        "mapeamento_formacao = dict(zip(encoder.classes_, encoder.transform(encoder.classes_)))\n",
        "print(\"Mapeamento para 'Formação Academica':\", mapeamento_formacao)"
      ]
    },
    {
      "cell_type": "code",
      "execution_count": 18,
      "id": "LIivsA4tWi3u",
      "metadata": {
        "id": "LIivsA4tWi3u"
      },
      "outputs": [],
      "source": [
        "df['Genero'] = encoder.fit_transform(df['Genero'])"
      ]
    },
    {
      "cell_type": "code",
      "execution_count": 19,
      "id": "pzA_Z_mlW1Nz",
      "metadata": {
        "id": "pzA_Z_mlW1Nz"
      },
      "outputs": [],
      "source": [
        "df['Ficou_Sem_Tarefas'] = encoder.fit_transform(df['Ficou_Sem_Tarefas'])"
      ]
    },
    {
      "cell_type": "code",
      "execution_count": 20,
      "id": "iUAmnYKQW5Ho",
      "metadata": {
        "colab": {
          "base_uri": "https://localhost:8080/",
          "height": 206
        },
        "id": "iUAmnYKQW5Ho",
        "outputId": "49054fda-6f21-4d18-c075-2ea2a065e554"
      },
      "outputs": [
        {
          "data": {
            "application/vnd.microsoft.datawrangler.viewer.v0+json": {
              "columns": [
                {
                  "name": "index",
                  "rawType": "int64",
                  "type": "integer"
                },
                {
                  "name": "Formacao_Academica",
                  "rawType": "int64",
                  "type": "integer"
                },
                {
                  "name": "Ano_Admissao",
                  "rawType": "int64",
                  "type": "integer"
                },
                {
                  "name": "Nivel_Salarial",
                  "rawType": "int64",
                  "type": "integer"
                },
                {
                  "name": "Idade",
                  "rawType": "int64",
                  "type": "integer"
                },
                {
                  "name": "Genero",
                  "rawType": "int64",
                  "type": "integer"
                },
                {
                  "name": "Ficou_Sem_Tarefas",
                  "rawType": "int64",
                  "type": "integer"
                },
                {
                  "name": "Experiencia_Area",
                  "rawType": "int64",
                  "type": "integer"
                },
                {
                  "name": "Deixou_Empresa",
                  "rawType": "int64",
                  "type": "integer"
                }
              ],
              "conversionMethod": "pd.DataFrame",
              "ref": "d162f277-3eb9-4726-a8e4-b4f69ec1dd74",
              "rows": [
                [
                  "0",
                  "0",
                  "2017",
                  "3",
                  "34",
                  "1",
                  "0",
                  "0",
                  "0"
                ],
                [
                  "1",
                  "0",
                  "2013",
                  "1",
                  "28",
                  "0",
                  "0",
                  "3",
                  "1"
                ],
                [
                  "2",
                  "0",
                  "2014",
                  "3",
                  "38",
                  "0",
                  "0",
                  "2",
                  "0"
                ],
                [
                  "3",
                  "1",
                  "2016",
                  "3",
                  "27",
                  "1",
                  "0",
                  "5",
                  "1"
                ],
                [
                  "4",
                  "1",
                  "2017",
                  "3",
                  "24",
                  "1",
                  "1",
                  "2",
                  "1"
                ]
              ],
              "shape": {
                "columns": 8,
                "rows": 5
              }
            },
            "text/html": [
              "<div>\n",
              "<style scoped>\n",
              "    .dataframe tbody tr th:only-of-type {\n",
              "        vertical-align: middle;\n",
              "    }\n",
              "\n",
              "    .dataframe tbody tr th {\n",
              "        vertical-align: top;\n",
              "    }\n",
              "\n",
              "    .dataframe thead th {\n",
              "        text-align: right;\n",
              "    }\n",
              "</style>\n",
              "<table border=\"1\" class=\"dataframe\">\n",
              "  <thead>\n",
              "    <tr style=\"text-align: right;\">\n",
              "      <th></th>\n",
              "      <th>Formacao_Academica</th>\n",
              "      <th>Ano_Admissao</th>\n",
              "      <th>Nivel_Salarial</th>\n",
              "      <th>Idade</th>\n",
              "      <th>Genero</th>\n",
              "      <th>Ficou_Sem_Tarefas</th>\n",
              "      <th>Experiencia_Area</th>\n",
              "      <th>Deixou_Empresa</th>\n",
              "    </tr>\n",
              "  </thead>\n",
              "  <tbody>\n",
              "    <tr>\n",
              "      <th>0</th>\n",
              "      <td>0</td>\n",
              "      <td>2017</td>\n",
              "      <td>3</td>\n",
              "      <td>34</td>\n",
              "      <td>1</td>\n",
              "      <td>0</td>\n",
              "      <td>0</td>\n",
              "      <td>0</td>\n",
              "    </tr>\n",
              "    <tr>\n",
              "      <th>1</th>\n",
              "      <td>0</td>\n",
              "      <td>2013</td>\n",
              "      <td>1</td>\n",
              "      <td>28</td>\n",
              "      <td>0</td>\n",
              "      <td>0</td>\n",
              "      <td>3</td>\n",
              "      <td>1</td>\n",
              "    </tr>\n",
              "    <tr>\n",
              "      <th>2</th>\n",
              "      <td>0</td>\n",
              "      <td>2014</td>\n",
              "      <td>3</td>\n",
              "      <td>38</td>\n",
              "      <td>0</td>\n",
              "      <td>0</td>\n",
              "      <td>2</td>\n",
              "      <td>0</td>\n",
              "    </tr>\n",
              "    <tr>\n",
              "      <th>3</th>\n",
              "      <td>1</td>\n",
              "      <td>2016</td>\n",
              "      <td>3</td>\n",
              "      <td>27</td>\n",
              "      <td>1</td>\n",
              "      <td>0</td>\n",
              "      <td>5</td>\n",
              "      <td>1</td>\n",
              "    </tr>\n",
              "    <tr>\n",
              "      <th>4</th>\n",
              "      <td>1</td>\n",
              "      <td>2017</td>\n",
              "      <td>3</td>\n",
              "      <td>24</td>\n",
              "      <td>1</td>\n",
              "      <td>1</td>\n",
              "      <td>2</td>\n",
              "      <td>1</td>\n",
              "    </tr>\n",
              "  </tbody>\n",
              "</table>\n",
              "</div>"
            ],
            "text/plain": [
              "   Formacao_Academica  Ano_Admissao  Nivel_Salarial  Idade  Genero  \\\n",
              "0                   0          2017               3     34       1   \n",
              "1                   0          2013               1     28       0   \n",
              "2                   0          2014               3     38       0   \n",
              "3                   1          2016               3     27       1   \n",
              "4                   1          2017               3     24       1   \n",
              "\n",
              "   Ficou_Sem_Tarefas  Experiencia_Area  Deixou_Empresa  \n",
              "0                  0                 0               0  \n",
              "1                  0                 3               1  \n",
              "2                  0                 2               0  \n",
              "3                  0                 5               1  \n",
              "4                  1                 2               1  "
            ]
          },
          "execution_count": 20,
          "metadata": {},
          "output_type": "execute_result"
        }
      ],
      "source": [
        "df.head()"
      ]
    },
    {
      "cell_type": "code",
      "execution_count": 21,
      "id": "_Yg_mDeUXOdc",
      "metadata": {
        "id": "_Yg_mDeUXOdc"
      },
      "outputs": [
        {
          "data": {
            "text/plain": [
              "Formacao_Academica    int64\n",
              "Ano_Admissao          int64\n",
              "Nivel_Salarial        int64\n",
              "Idade                 int64\n",
              "Genero                int64\n",
              "Ficou_Sem_Tarefas     int64\n",
              "Experiencia_Area      int64\n",
              "Deixou_Empresa        int64\n",
              "dtype: object"
            ]
          },
          "execution_count": 21,
          "metadata": {},
          "output_type": "execute_result"
        }
      ],
      "source": [
        "# Verificar se todas as variáveis são numéricas\n",
        "df.dtypes"
      ]
    },
    {
      "cell_type": "markdown",
      "id": "CjCf_MBmXz_P",
      "metadata": {
        "id": "CjCf_MBmXz_P"
      },
      "source": [
        "Agora vamos salvar a nossa base de dados limpa:"
      ]
    },
    {
      "cell_type": "code",
      "execution_count": 22,
      "id": "UnM3Gh0pX6md",
      "metadata": {
        "id": "UnM3Gh0pX6md"
      },
      "outputs": [
        {
          "name": "stdout",
          "output_type": "stream",
          "text": [
            "DataFrame salvo com sucesso em: ../dados/dados_transformados.csv\n"
          ]
        }
      ],
      "source": [
        "#Salvar o DataFrame transformado em um arquivo CSV\n",
        "\n",
        "caminho_arquivo = '../dados/dados_transformados.csv'\n",
        "df.to_csv(caminho_arquivo, index=False, encoding='utf-8-sig')\n",
        "\n",
        "print(f\"DataFrame salvo com sucesso em: {caminho_arquivo}\")"
      ]
    }
  ],
  "metadata": {
    "colab": {
      "provenance": []
    },
    "kernelspec": {
      "display_name": "Python 3",
      "language": "python",
      "name": "python3"
    },
    "language_info": {
      "codemirror_mode": {
        "name": "ipython",
        "version": 3
      },
      "file_extension": ".py",
      "mimetype": "text/x-python",
      "name": "python",
      "nbconvert_exporter": "python",
      "pygments_lexer": "ipython3",
      "version": "3.12.10"
    }
  },
  "nbformat": 4,
  "nbformat_minor": 5
}
